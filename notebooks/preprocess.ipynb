{
 "cells": [
  {
   "cell_type": "markdown",
   "source": [
    "## create a tokenizer"
   ],
   "metadata": {
    "collapsed": false
   },
   "id": "cfb367c654e4b96d"
  },
  {
   "cell_type": "code",
   "execution_count": null,
   "id": "initial_id",
   "metadata": {
    "collapsed": true
   },
   "outputs": [],
   "source": [
    "# read data\n",
    "path = \"../data/input.txt\"\n",
    "with open(path, 'r', encoding='utf-8') as f:\n",
    "    data = f.read()\n",
    "\n",
    "print(len(data))"
   ]
  },
  {
   "cell_type": "code",
   "outputs": [],
   "source": [
    "# print first 1000 characters\n",
    "print(data[:1000])"
   ],
   "metadata": {
    "collapsed": false
   },
   "id": "4d14bfdff032b90f",
   "execution_count": null
  },
  {
   "cell_type": "code",
   "outputs": [],
   "source": [
    "unique_chars = sorted(list(set(data)))\n",
    "vocabulary_size = len(unique_chars)\n",
    "print(''.join(unique_chars))\n",
    "print(vocabulary_size)"
   ],
   "metadata": {
    "collapsed": false
   },
   "id": "bcdb63b62721927b",
   "execution_count": null
  },
  {
   "cell_type": "code",
   "outputs": [],
   "source": [
    "# tokenization of characters\n",
    "encoder_func = {ch:i for i,ch in enumerate(unique_chars)}\n",
    "decoder_func = {i:ch for i,ch in enumerate(unique_chars)}\n",
    "\n",
    "encoder = lambda s: [encoder_func[c] for c in s]\n",
    "decoder = lambda c: ''.join([decoder_func[i] for i in c])"
   ],
   "metadata": {
    "collapsed": false
   },
   "id": "3a60dc3404e2549b",
   "execution_count": null
  },
  {
   "cell_type": "code",
   "outputs": [],
   "source": [
    "print(encoder(\"hii there\"))\n",
    "print(decoder(encoder(\"hii there\")))"
   ],
   "metadata": {
    "collapsed": false
   },
   "id": "3cc3a9a6a2557432",
   "execution_count": null
  },
  {
   "cell_type": "code",
   "outputs": [],
   "source": [
    "import torch\n",
    "tensor_data = torch.LongTensor(encoder(data))\n",
    "print(tensor_data.size())\n",
    "print(tensor_data.dtype)\n",
    "print(tensor_data[:1000])"
   ],
   "metadata": {
    "collapsed": false
   },
   "id": "e3f5d9ee2fd2c2d6",
   "execution_count": null
  },
  {
   "cell_type": "code",
   "outputs": [],
   "source": [
    "train_upper_index = int(0.9*len(tensor_data))\n",
    "train_data, test_data = tensor_data[:train_upper_index], tensor_data[train_upper_index:]"
   ],
   "metadata": {
    "collapsed": false
   },
   "id": "802ec66c533cd756",
   "execution_count": null
  },
  {
   "cell_type": "code",
   "outputs": [],
   "source": [
    "context_length = 8\n",
    "train_data[:context_length+1]"
   ],
   "metadata": {
    "collapsed": false
   },
   "id": "ab8de7efd86aba95",
   "execution_count": null
  },
  {
   "cell_type": "code",
   "outputs": [],
   "source": [
    "# this way we train the transformer to predict on context from size of 1 up until context_size\n",
    "\n",
    "x = train_data[:context_length]\n",
    "y = train_data[1:context_length+1]\n",
    "for t in range(context_length):\n",
    "    context = x[:t+1]\n",
    "    target = y[t]\n",
    "    print(f\"when input is {context}, target is {target}\")"
   ],
   "metadata": {
    "collapsed": false
   },
   "id": "75f4b840e40da096",
   "execution_count": null
  },
  {
   "cell_type": "code",
   "outputs": [],
   "source": [
    "torch.manual_seed(1337)\n",
    "batch_size = 4\n",
    "context_length = 8\n",
    "\n",
    "def get_batch(split):\n",
    "    data = train_data if split == 'train' else test_data\n",
    "    idx = torch.randint(len(data) - context_length, (batch_size,))\n",
    "    x = torch.stack([data[i:i+context_length] for i in idx])\n",
    "    y = torch.stack([data[i+1:i+context_length+1] for i in idx])\n",
    "    return x, y\n",
    "\n",
    "xb, yb = get_batch('train')\n",
    "print('inputs:')\n",
    "print(xb.shape)\n",
    "print(xb)\n",
    "print('targets:')\n",
    "print(yb.shape)\n",
    "print(yb)\n",
    "    \n",
    "print('****************')\n",
    "\n",
    "for b in range(batch_size):\n",
    "    for t in range(context_length):\n",
    "        context = xb[b, :t+1]\n",
    "        target = yb[b, t]\n",
    "        print(f\"when input is {context.tolist()}, target is {target}\")"
   ],
   "metadata": {
    "collapsed": false
   },
   "id": "34a76f16968595eb",
   "execution_count": null
  },
  {
   "cell_type": "code",
   "outputs": [],
   "source": [
    "# implement a simple language model\n",
    "\n",
    "import torch\n",
    "import torch.nn as nn\n",
    "from torch.nn import functional as F\n",
    "torch.manual_seed(1337)\n",
    "\n",
    "class BigramModel(nn.Module):\n",
    "    def __init__(self, vocab_size):\n",
    "        super().__init__()\n",
    "        # each token directly reads off the logits for the next token from the lookup table\n",
    "        self.token_embedding_table = nn.Embedding(vocab_size, vocab_size)\n",
    "        \n",
    "    def forward(self, idx, targets=None):\n",
    "        \n",
    "        # idx and targets are both (b, t) tensor of type int\n",
    "        logits = self.token_embedding_table(idx) # (batch, time, channels)\n",
    "        if targets is None:\n",
    "            loss = None\n",
    "        else:\n",
    "            b, t, c = logits.shape\n",
    "            logits = logits.view(b*t, c)\n",
    "            targets = targets.view(-1)\n",
    "            loss = F.cross_entropy(logits, targets) \n",
    "        return logits, loss\n",
    "    \n",
    "    def generate(self, idx, max_new_tokens):\n",
    "        # idx is (b, t) array of indices in current context\n",
    "        for _ in range(max_new_tokens):\n",
    "            # get predictions\n",
    "            logits, loss = self(idx)\n",
    "            # take only the last time step prediction\n",
    "            logits = logits[:, -1, :]\n",
    "            # calculate the probabilities\n",
    "            probs = F.softmax(logits, dim=1)\n",
    "            # sample from the distribution\n",
    "            idx_next = torch.multinomial(probs, num_samples=1)\n",
    "            idx = torch.cat([idx, idx_next], dim=1) # (b, t+1)\n",
    "            \n",
    "        return idx\n",
    "    \n",
    "m = BigramModel(vocab_size=vocabulary_size)\n",
    "out, loss = m(xb, yb)\n",
    "print(out.shape)\n",
    "print(loss)\n",
    "\n",
    "idx = torch.zeros((1,1), dtype=torch.long)\n",
    "print(decoder(m.generate(idx, max_new_tokens=100)[0].tolist()))"
   ],
   "metadata": {
    "collapsed": false
   },
   "id": "ef86421f1a61bf7a",
   "execution_count": null
  },
  {
   "cell_type": "code",
   "outputs": [],
   "source": [
    "optimizer = torch.optim.AdamW(m.parameters(), lr=1e-3)\n"
   ],
   "metadata": {
    "collapsed": false
   },
   "id": "3cbb7ac99b13439a",
   "execution_count": null
  },
  {
   "cell_type": "code",
   "outputs": [],
   "source": [
    "batch_size = 32\n",
    "for steps in range(10000):\n",
    "    \n",
    "    # sample a batch\n",
    "    xb, yb = get_batch('train')\n",
    "    \n",
    "    # forward\n",
    "    logits, loss = m(xb, yb)\n",
    "    optimizer.zero_grad(set_to_none=True)\n",
    "    loss.backward()\n",
    "    optimizer.step()\n",
    "    \n",
    "print(loss.item())"
   ],
   "metadata": {
    "collapsed": false
   },
   "id": "e0314cb3caea6ad9",
   "execution_count": null
  },
  {
   "cell_type": "code",
   "outputs": [],
   "source": [
    "# still not shakespeare, but we're making progress \n",
    "print(decoder(m.generate(idx, max_new_tokens=500)[0].tolist()))"
   ],
   "metadata": {
    "collapsed": false
   },
   "id": "3e73561d29f443af",
   "execution_count": null
  }
 ],
 "metadata": {
  "kernelspec": {
   "display_name": "Python 3",
   "language": "python",
   "name": "python3"
  },
  "language_info": {
   "codemirror_mode": {
    "name": "ipython",
    "version": 2
   },
   "file_extension": ".py",
   "mimetype": "text/x-python",
   "name": "python",
   "nbconvert_exporter": "python",
   "pygments_lexer": "ipython2",
   "version": "2.7.6"
  }
 },
 "nbformat": 4,
 "nbformat_minor": 5
}
